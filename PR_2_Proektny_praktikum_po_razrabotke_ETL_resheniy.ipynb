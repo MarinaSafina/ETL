{
  "cells": [
    {
      "cell_type": "markdown",
      "metadata": {
        "id": "bEx0EgnxPzf-"
      },
      "source": [
        "# Практическая работа 2.1. Анализ данных с помощью DASK\n",
        "\n",
        "\n",
        "**Задание.**\n",
        "\n",
        "`2.1.1.` Настроить среду и рабочий каталог.\n",
        "\n",
        "`2.1.2.` Загрузить данные.\n",
        "\n",
        "`2.1.3.` Проверить качество данных (например, отсутствующие значения и выбросы).\n",
        "\n",
        "`2.1.4.` Удалить столбцы (множество пропусков в значениях, бесполезные столбцы для анализа)."
      ]
    },
    {
      "cell_type": "markdown",
      "metadata": {
        "id": "MmgSJ5WcSh3h"
      },
      "source": [
        "`2.1.1.` **Настроить среду и рабочий каталог.**"
      ]
    },
    {
      "cell_type": "code",
      "execution_count": null,
      "metadata": {
        "colab": {
          "base_uri": "https://localhost:8080/"
        },
        "id": "IngQXQWPQckS",
        "outputId": "3d45bf90-5fd0-4724-8f69-c1d7424dac5f"
      },
      "outputs": [],
      "source": [
        "from google.colab import drive\n",
        "drive.mount('/content/drive')"
      ]
    },
    {
      "cell_type": "code",
      "execution_count": null,
      "metadata": {
        "colab": {
          "base_uri": "https://localhost:8080/"
        },
        "id": "sw6VBZqAQ4U0",
        "outputId": "c6f6aed4-2a13-4acd-a6ce-4c6d04ea832b"
      },
      "outputs": [],
      "source": [
        "ls"
      ]
    },
    {
      "cell_type": "code",
      "execution_count": null,
      "metadata": {
        "colab": {
          "base_uri": "https://localhost:8080/"
        },
        "id": "RWdPM06UI208",
        "outputId": "6427747f-acb3-41b5-f76e-a1b57bbdc6f5"
      },
      "outputs": [],
      "source": [
        "!pip install \"dask[complete]\""
      ]
    },
    {
      "cell_type": "code",
      "execution_count": 4,
      "metadata": {
        "id": "dI_jkXIpRCrb"
      },
      "outputs": [],
      "source": [
        "# import libraries\n",
        "import sys\n",
        "import os\n",
        "\n",
        "## import dask libraries\n",
        "import dask.dataframe as dd\n",
        "from dask.diagnostics import ProgressBar\n",
        "\n",
        "# import libraries\n",
        "import pandas as pd"
      ]
    },
    {
      "cell_type": "code",
      "execution_count": null,
      "metadata": {
        "colab": {
          "base_uri": "https://localhost:8080/"
        },
        "id": "s7bRhBP1RMWM",
        "outputId": "df372acb-6a8e-4075-9415-ee8dc39e46cf"
      },
      "outputs": [],
      "source": [
        "cwd = os.getcwd()\n",
        "\n",
        "# print\n",
        "print('', sys.executable)\n",
        "print('', cwd)"
      ]
    },
    {
      "cell_type": "markdown",
      "metadata": {
        "id": "6urWGTT4RScT"
      },
      "source": [
        "`2.1.2.` **Загрузить данные.**"
      ]
    },
    {
      "cell_type": "code",
      "execution_count": null,
      "metadata": {
        "id": "zQTZSQqIS0IA"
      },
      "outputs": [],
      "source": [
        "from google.colab import files\n",
        "files.upload()"
      ]
    },
    {
      "cell_type": "code",
      "execution_count": null,
      "metadata": {
        "colab": {
          "base_uri": "https://localhost:8080/",
          "height": 362
        },
        "id": "cTD87JaFTAPS",
        "outputId": "fd036f5e-703f-4c1f-836b-503976d8dd08"
      },
      "outputs": [],
      "source": [
        "## read data using DataFrame API\n",
        "df = dd.read_csv('Parking_Violations_Issued_-_Fiscal_Year_2017.csv')\n",
        "df"
      ]
    },
    {
      "cell_type": "markdown",
      "metadata": {
        "id": "MVHVB2vxTbjW"
      },
      "source": [
        "Обратите внимание, что\n",
        "\n",
        "- `metadata` отображаются в кадре вместо образца данных\n",
        "синтаксис очень похож на API Pandas.\n",
        "\n",
        "- `# partitions` — это количество разбиений, используемых для разделения основного набора данных. Оптимальное количество определяется планировщиком, который разделяет `DataFrame Pandas` на более мелкие фрагменты. В этом случае размер каждого раздела составляет ~64 МБ (т. е. размер набора данных/npartitions = 2 ГБ/33). Если у нас есть один рабочий процесс, Dask будет переключаться на каждый раздел по одному.\n",
        "\n",
        "- `data types` сообщаются под каждым именем столбца (аналогично описанию метода в Pandas, однако выполняется путем случайной выборки, поскольку данные разбросаны по нескольким физическим машинам). Хорошей практикой является явное определение типов данных вместо того, чтобы полагаться на вывод Dask (в идеале хранить в двоичном формате).\n",
        "\n",
        "- `Dask Name` сообщает имя группы обеспечения доступности баз данных (т.е. с задержкой).\n",
        "\n",
        "- `# tasks` — это количество узлов в группе, которые обеспечивают доступность к данным. Вы можете представить задачу как функцию `Python`, и в этом случае каждая задача выполняет три задачи:\n",
        "\n",
        "1) чтение необработанных данных,\n",
        "\n",
        "2) разделение данных на соответствующие блоки,\n",
        "\n",
        "3) инициализация объекта `DataFrame`."
      ]
    },
    {
      "cell_type": "markdown",
      "metadata": {
        "id": "hXxWxOHVWmMp"
      },
      "source": [
        "`2.1.3.` **Проверить качество данных (например, отсутствующие значения и выбросы).**"
      ]
    },
    {
      "cell_type": "code",
      "execution_count": null,
      "metadata": {
        "colab": {
          "base_uri": "https://localhost:8080/"
        },
        "id": "Rx_EQ0fKUT2-",
        "outputId": "de9fb618-3c0b-43cf-89b6-3e4dc65697ad"
      },
      "outputs": [],
      "source": [
        "# count missing values\n",
        "missing_values = df.isnull().sum()\n",
        "missing_values"
      ]
    },
    {
      "cell_type": "markdown",
      "metadata": {
        "id": "gPAtFBJuW1fp"
      },
      "source": [
        "Обратите внимание на то, что:\n",
        "\n",
        "Созданный объект `dask` представляет собой серию, содержащую метаданные, а синтаксис очень похож на `API Pandas`, обработка еще не завершена, вместо этого `Dask` подготовил `DAG`, сохраненный в переменной пропущенных значений (преимущество быстрого построения графика без необходимости ждать вычислений)\n",
        "\n",
        "Количество задач увеличилось, поскольку были добавлены `2` задачи (т. е. проверка недостающих значений и суммы) для каждого из `32` разделов, а также окончательное добавление для агрегирования результатов по всем разделам, в общей сложности их - `4`."
      ]
    },
    {
      "cell_type": "code",
      "execution_count": null,
      "metadata": {
        "colab": {
          "base_uri": "https://localhost:8080/"
        },
        "id": "O-xMhqs7YHS8",
        "outputId": "d714b0e3-86b8-4cdc-9104-4678a8e7c486"
      },
      "outputs": [],
      "source": [
        "# calculate percent missing values\n",
        "mysize = df.index.size\n",
        "missing_count = ((missing_values / mysize) * 100)\n",
        "missing_count"
      ]
    },
    {
      "cell_type": "markdown",
      "metadata": {
        "id": "Wytr0Ab_YdSI"
      },
      "source": [
        "Обратите внимание на то, что:\n",
        "\n",
        "- созданный объект `dask` представляет собой серию, и вычисление еще не завершено.\n",
        "\n",
        "- `df.index.size` — это объект `dask` `dask.dataframe.core.Scalar`. Вы не можете получить доступ к его значению/длине напрямую, как если бы вы это делали со списком (например, `len()`). Это противоречило бы всей идее `dask` (т.е. прочитать весь набор данных).\n",
        "\n",
        "- `# tasks` количество задач увеличилось, так как были добавлены `2` задачи (т.е. деление и умножение).\n",
        "\n",
        "-  `data type` изменен с `int64` на `float64`. Dask автоматически преобразовал его, если тип данных на выходе  не совпадает с входным после разделения."
      ]
    },
    {
      "cell_type": "code",
      "execution_count": null,
      "metadata": {
        "colab": {
          "base_uri": "https://localhost:8080/"
        },
        "id": "qjsywWWlXdU-",
        "outputId": "650ada32-b6cd-455b-8765-d379b298883b"
      },
      "outputs": [],
      "source": [
        "# запуск вычисления, используя метод подсчета\n",
        "with ProgressBar():\n",
        "  missing_count_percent = missing_count.compute()\n",
        "missing_count_percent"
      ]
    },
    {
      "cell_type": "markdown",
      "metadata": {
        "id": "fXZlDoo-cf4r"
      },
      "source": [
        "Обратите внимание на то, что:\n",
        "\n",
        "- метод `.compute()` необходим для запуска действий, встроенных в каждый узел группы обеспечения доступности баз данных.\n",
        "\n",
        "- Результаты метода вычислений сохраняются в серии `Pandas`.\n",
        "\n",
        "- `ProgressBar()` — это оболочка для отслеживания запущенных задач. Он показывает завершенную работу.\n",
        "\n",
        "Видим, что не все столбцы являются неполными, и нам следует их удалить."
      ]
    },
    {
      "cell_type": "markdown",
      "metadata": {
        "id": "VxRy4FPQdQPo"
      },
      "source": [
        "`2.1.4.` **Удалить столбцы (пропуски в значениях, бесполезные столбцы для анализа).**"
      ]
    },
    {
      "cell_type": "code",
      "execution_count": null,
      "metadata": {
        "colab": {
          "base_uri": "https://localhost:8080/"
        },
        "id": "oOj6p0AGdLTp",
        "outputId": "cbcf21b1-3e0f-4317-9a17-96e1c227da62"
      },
      "outputs": [],
      "source": [
        "# операция фильтрации разреженных столбцов (более 60% пропущенных значений) и сохраняем оставшиеся\n",
        "columns_to_drop = missing_count_percent[missing_count_percent > 60].index\n",
        "print(columns_to_drop)\n",
        "\n",
        "# drop sparse columns\n",
        "with ProgressBar():\n",
        "    #df_dropped = df.drop(columns_to_drop, axis=1).persist()\n",
        "    df_dropped = df.drop(columns_to_drop, axis=1).compute()"
      ]
    },
    {
      "cell_type": "markdown",
      "metadata": {
        "id": "THkb2QD0d2S5"
      },
      "source": [
        "Обратите внимание на то, что:\n",
        "\n",
        "- использовать `Pandas Series` для удаления столбцов в `Dask DataFrame`, поскольку каждый раздел является `Pandas DataFrame`.\n",
        "\n",
        "- В случае, если серия доступна для всех потоков, в кластере она будет сериализована и широковещательно передана всем рабочим узлам.\n",
        "\n",
        "- Метод `.persist()` позволяет хранить в памяти промежуточные вычисления, чтобы их можно было использовать повторно."
      ]
    },
    {
      "cell_type": "markdown",
      "metadata": {
        "id": "D9fnbeg6fECg"
      },
      "source": [
        "# Практическая работа 2.2. Визуализация ориентированных ациклических графов (DAG)\n",
        "\n",
        "- `DASK` использует библиотеку `Graviz` для создания визуального представления групп `DAG`, созданных планировщиком.\n",
        "\n",
        "- и спользуйте метод `.visualize()` для проверки групп `DAG DataFrames`, `Series`, `Bag` и массивов.\n",
        "\n",
        "Для упрощения будем использовать объект `Dask Delayed` вместо `DataFrames`, поскольку они становятся довольно большими и их трудно визуализировать.\n",
        "\n",
        "- `Delayed` — это конструктор, который позволяет обертывать функции и создавать объекты `Dask Delayed`, эквивалентные узлу в `DAG`. Объединяя захваченные объекты, создаем группу доступа к данным.\n",
        "\n",
        "Ниже приведены два примера: в первом  `DAG` только с одним узлом и зависимостями, а во втором  - `DAG` с несколькими узлами и зависимостями.\n",
        "\n",
        "**Задание.**\n",
        "\n",
        "`2.2.1.` Визуализировать `DAG` с одним узлом и зависимостями.\n",
        "\n",
        "`2.2.1.` Визуализировать `DAG` с более чем одним узлом и зависимостями.\n",
        "\n"
      ]
    },
    {
      "cell_type": "markdown",
      "metadata": {
        "id": "eDXjg75dgkTk"
      },
      "source": [
        "`2.1.1.` **Визуализировать `DAG` с одним узлом и зависимостями.**"
      ]
    },
    {
      "cell_type": "code",
      "execution_count": 10,
      "metadata": {
        "id": "N0ObNZxJe8q4"
      },
      "outputs": [],
      "source": [
        "# import library\n",
        "import dask.delayed as delayed"
      ]
    },
    {
      "cell_type": "code",
      "execution_count": null,
      "metadata": {
        "colab": {
          "base_uri": "https://localhost:8080/",
          "height": 469
        },
        "id": "3kczecMqgt4J",
        "outputId": "a955de41-95d7-4255-dd3d-3a99de26227c"
      },
      "outputs": [],
      "source": [
        "def increment(i):\n",
        "    return i + 1\n",
        "\n",
        "def add(x, y):\n",
        "    return x + y\n",
        "\n",
        "# функции переноса внутри отложенного объекта и цепочки\n",
        "x = delayed(increment)(1)\n",
        "y = delayed(increment)(2)\n",
        "z = delayed(add)(x, y)\n",
        "\n",
        "# visualize the DAG\n",
        "z.visualize()"
      ]
    },
    {
      "cell_type": "code",
      "execution_count": null,
      "metadata": {
        "colab": {
          "base_uri": "https://localhost:8080/"
        },
        "id": "Q6TfyGFUg_UB",
        "outputId": "9ffd963a-9dbe-4590-d178-5d2afefd8f97"
      },
      "outputs": [],
      "source": [
        "# show the result\n",
        "z.compute()"
      ]
    },
    {
      "cell_type": "markdown",
      "metadata": {
        "id": "ybh2DgYEhDNZ"
      },
      "source": [
        "Обратите внимание на то, что:\n",
        "\n",
        "- Чтобы построить узел, в функцию передали захваченный объект, а затем передали аргументы этой функции. Можно использовать декораторы.\n",
        "\n",
        "- Круги указывают на функцию и вычисления, а квадраты — промежуточный или конечный результат.\n",
        "\n",
        "- Входящие стрелки представляют зависимости. Функция `increment` не имеет никаких зависимостей, а функция `add` — две. Таким образом, функция `add`  должна ждать, пока не будут вычислены объекты `x` и `y`.\n",
        "\n",
        "- Функции без зависимостей могут вычисляться независимо, и каждой из них можно назначить `workera`.\n",
        "\n",
        "- Используйте метод `.visualize()` на последнем узле с зависимостями.\n",
        "\n",
        "- `Dask` не расчитывает `DAG`. Используйте метод `.compute()` на последнем узле, чтобы увидеть результат."
      ]
    },
    {
      "cell_type": "markdown",
      "metadata": {
        "id": "IqhURXTRjH3b"
      },
      "source": [
        "`2.2.2.` **Визуализировать `DAG` с более чем одним узлом и зависимостями.**\n",
        "\n",
        "построить более сложную группу `DAG` с двумя уровнями:\n",
        "\n",
        "- `Layer1` создается путем циклического перебора списка данных  в ​`​dask` . Этот слой объединяет ранее созданное приращение функции со значениями в списке, а затем использует встроенное суммирование функции для объединения результатов;\n",
        "\n",
        "- `Layer2` построен циклически для каждого объекта, созданного в `Layer1`."
      ]
    },
    {
      "cell_type": "code",
      "execution_count": null,
      "metadata": {
        "colab": {
          "base_uri": "https://localhost:8080/",
          "height": 476
        },
        "id": "dH49Zt7mjHd5",
        "outputId": "e1194c5a-fa33-4b34-d5fa-d3de3257841b"
      },
      "outputs": [],
      "source": [
        "data = [1, 2, 3, 4, 5]\n",
        "\n",
        "# compile first layer and visualize\n",
        "layer1 = [delayed(increment)(i) for i in data]\n",
        "total1 = delayed(sum)(layer1)\n",
        "total1.visualize()"
      ]
    },
    {
      "cell_type": "code",
      "execution_count": null,
      "metadata": {
        "colab": {
          "base_uri": "https://localhost:8080/",
          "height": 718
        },
        "id": "CrzrC0yAilGJ",
        "outputId": "ae1e9db8-3704-496c-bb0f-10765d305f58"
      },
      "outputs": [],
      "source": [
        "def double(x):\n",
        "    return x * 2\n",
        "\n",
        "# compile second layer and visualize\n",
        "layer2 = [delayed(double)(j) for j in layer1]\n",
        "total2 = delayed(sum)(layer2)#.persist()\n",
        "total2.visualize()"
      ]
    },
    {
      "cell_type": "code",
      "execution_count": null,
      "metadata": {
        "colab": {
          "base_uri": "https://localhost:8080/"
        },
        "id": "WvKa-Xrrj_Jm",
        "outputId": "945f5291-c45d-4256-e3ec-5a0931526541"
      },
      "outputs": [],
      "source": [
        "z = total2.compute()\n",
        "z"
      ]
    },
    {
      "cell_type": "markdown",
      "metadata": {
        "id": "TRxGiRSNkGHl"
      },
      "source": [
        "Обратите внимание на то, что:\n",
        "\n",
        "- построение через использование функции,\n",
        "\n",
        "- используем `.persist()`, и результат будет представлен на графике в виде прямоугольника."
      ]
    },
    {
      "cell_type": "code",
      "execution_count": null,
      "metadata": {
        "colab": {
          "base_uri": "https://localhost:8080/",
          "height": 240
        },
        "id": "EiWjhzMgkeNK",
        "outputId": "cc753cee-d4df-462e-b213-55a7f481f902"
      },
      "outputs": [],
      "source": [
        "# visualize DAGs built from the DataFrame\n",
        "missing_count.visualize()"
      ]
    },
    {
      "cell_type": "markdown",
      "metadata": {
        "id": "9wVceOSipheb"
      },
      "source": [
        "# Самостоятельная работа\n",
        "\n",
        "Каталог датасетов [тут](https://disk.yandex.ru/d/fbPE3VNKYocd7g). Прямая ссылка https://disk.yandex.ru/d/fbPE3VNKYocd7g.\n",
        "\n",
        "Выполнить пункты\n",
        "\n",
        "`2.1.1.` - `2.1.4.`,\n",
        "\n",
        "`2.2.1.` - `2.2.2.`,\n",
        "\n",
        "по вариантам:\n",
        "\n",
        "01. `Parking_Violations_Issued_-_Fiscal_Year_2014__August_2013___June_2014_.csv`.\n",
        "02. `Parking_Violations_Issued_-_Fiscal_Year_2015.csv`.\n",
        "03. `Parking_Violations_Issued_-_Fiscal_Year_2016.csv`.\n",
        "04. `Parking_Violations_Issued_-_Fiscal_Year_2017.csv`.\n",
        "05. `UK Property Price official data 1995-202304.zip`.\n",
        "06. `Austin, TX House Listings.zip`.\n",
        "07. `Parking_Violations_Issued_-_Fiscal_Year_2014__August_2013___June_2014_.csv`.\n",
        "08. `Parking_Violations_Issued_-_Fiscal_Year_2015.csv`.\n",
        "09. `Parking_Violations_Issued_-_Fiscal_Year_2016.csv`.\n",
        "10. `Parking_Violations_Issued_-_Fiscal_Year_2017.csv`.\n",
        "11. `UK Property Price official data 1995-202304.zip`.\n",
        "12. `Austin, TX House Listings.zip`.\n",
        "13. `Parking_Violations_Issued_-_Fiscal_Year_2014__August_2013___June_2014_.csv`.\n",
        "14. `Parking_Violations_Issued_-_Fiscal_Year_2015.csv`.\n",
        "15. `Parking_Violations_Issued_-_Fiscal_Year_2016.csv`.\n",
        "16. `Parking_Violations_Issued_-_Fiscal_Year_2017.csv`.\n",
        "17. `UK Property Price official data 1995-202304.zip`.\n",
        "18. `Austin, TX House Listings.zip`.\n",
        "19. `Parking_Violations_Issued_-_Fiscal_Year_2014__August_2013___June_2014_.csv`.\n",
        "20. `Parking_Violations_Issued_-_Fiscal_Year_2015.csv`.\n",
        "21. `Parking_Violations_Issued_-_Fiscal_Year_2016.csv`.\n",
        "22. `Parking_Violations_Issued_-_Fiscal_Year_2017.csv`.\n",
        "23. `UK Property Price official data 1995-202304.zip`.\n",
        "24. `Austin, TX House Listings.zip`.\n",
        "25. `Parking_Violations_Issued_-_Fiscal_Year_2014__August_2013___June_2014_.csv`.\n",
        "\n",
        "\n",
        "\n",
        "\n"
      ]
    }
  ],
  "metadata": {
    "colab": {
      "provenance": []
    },
    "kernelspec": {
      "display_name": "Python 3",
      "name": "python3"
    },
    "language_info": {
      "name": "python"
    }
  },
  "nbformat": 4,
  "nbformat_minor": 0
}
